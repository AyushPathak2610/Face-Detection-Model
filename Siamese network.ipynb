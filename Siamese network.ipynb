{
 "cells": [
  {
   "cell_type": "code",
   "execution_count": 1,
   "id": "28e7dc66",
   "metadata": {},
   "outputs": [],
   "source": [
    "import numpy as np\n",
    "import pandas as pd\n",
    "import matplotlib.pyplot as plt\n",
    "import seaborn as sns"
   ]
  },
  {
   "cell_type": "code",
   "execution_count": 2,
   "id": "1b0e1ad0",
   "metadata": {},
   "outputs": [],
   "source": [
    "import os \n",
    "import cv2 as cv\n",
    "import random"
   ]
  },
  {
   "cell_type": "code",
   "execution_count": 3,
   "id": "3e411774",
   "metadata": {},
   "outputs": [],
   "source": [
    "from tensorflow.keras.models import Model\n",
    "from tensorflow.keras.layers import Input, Layer, Conv2D, Dense, MaxPooling2D, Flatten\n",
    "import tensorflow as tf"
   ]
  },
  {
   "cell_type": "code",
   "execution_count": 4,
   "id": "60c64aab",
   "metadata": {},
   "outputs": [],
   "source": [
    "#to prevent memory overflow error coaused by gpu, setup GPU memory consumption growth\n",
    "gpus = tf.config.experimental.list_physical_devices('GPU')\n",
    "for gpu in gpus:\n",
    "    tf.config.experimental.set_memory_growth(gpu,True)"
   ]
  },
  {
   "cell_type": "code",
   "execution_count": 4,
   "id": "8cbe9ab3",
   "metadata": {},
   "outputs": [],
   "source": [
    "#setup paths for folder structures\n",
    "POS_PATH = os.path.join('data','positive')\n",
    "NEG_PATH = os.path.join('data','negative')\n",
    "ANC_PATH = os.path.join('data','anchor')"
   ]
  },
  {
   "cell_type": "code",
   "execution_count": 6,
   "id": "25e80ecc",
   "metadata": {},
   "outputs": [],
   "source": [
    "#make directories\n",
    "os.makedirs(POS_PATH) #matching ones\n",
    "os.makedirs(NEG_PATH) #non-matching ones\n",
    "os.makedirs(ANC_PATH) #the ones with matched"
   ]
  },
  {
   "cell_type": "code",
   "execution_count": null,
   "id": "716a4525",
   "metadata": {},
   "outputs": [],
   "source": [
    "# uncompress tar gc for labelled faces in the wild dataset\n",
    "!tar -xf lfw.tgz"
   ]
  },
  {
   "cell_type": "code",
   "execution_count": 7,
   "id": "4ca732fd",
   "metadata": {},
   "outputs": [],
   "source": [
    "#move images to negative folder\n",
    "for directory in os.listdir('lfw'):\n",
    "    for file in os.listdir(os.path.join('lfw',directory)):\n",
    "        EX_PATH = os.path.join('lfw',directory,file)\n",
    "        NEW_PATH = os.path.join(NEG_PATH,file)\n",
    "        os.replace(EX_PATH,NEW_PATH)"
   ]
  },
  {
   "cell_type": "code",
   "execution_count": 17,
   "id": "1a8e8331",
   "metadata": {},
   "outputs": [
    {
     "data": {
      "text/plain": [
       "UUID('fa041ddb-5a1f-11ee-8d5e-18473dde6de0')"
      ]
     },
     "execution_count": 17,
     "metadata": {},
     "output_type": "execute_result"
    }
   ],
   "source": [
    "import uuid #to generate unique identification names for generated images\n",
    "uuid.uuid1()"
   ]
  },
  {
   "cell_type": "code",
   "execution_count": 18,
   "id": "81b450e1",
   "metadata": {},
   "outputs": [
    {
     "data": {
      "text/plain": [
       "<function destroyAllWindows>"
      ]
     },
     "execution_count": 18,
     "metadata": {},
     "output_type": "execute_result"
    }
   ],
   "source": [
    "cap = cv.VideoCapture(0)# assigning webcam :- 0 for laptop\n",
    "while cap.isOpened():\n",
    "    ret, frame = cap.read()\n",
    "    frame = frame[200:200+250,200:200+250,:] #we need to bring the frame size tibe the same as those in data//negative which is 250*250 px\n",
    "    # collecting anchors\n",
    "    if cv.waitKey(1) & 0XFF==ord('a'):\n",
    "        # unique file name\n",
    "        imgname = os.path.join(ANC_PATH, '{}.jpg'.format(uuid.uuid1()))\n",
    "        #write out anchor image\n",
    "        cv.imwrite(imgname,frame)\n",
    "    \n",
    "    # collecting positives\n",
    "    if cv.waitKey(1) & 0XFF==ord('p'):\n",
    "        # unique file name \n",
    "        imgname = os.path.join(POS_PATH, '{}.jpg'.format(uuid.uuid1()))\n",
    "        #write out positive image\n",
    "        cv.imwrite(imgname,frame)\n",
    "    \n",
    "    cv.imshow('Image Collection',frame)# to display image on screen\n",
    "    # breaking and capturing\n",
    "    if cv.waitKey(1) & 0XFF==ord('q'):\n",
    "        break\n",
    "        \n",
    "cap.release()\n",
    "cv.destroyAllWindows"
   ]
  },
  {
   "cell_type": "code",
   "execution_count": 7,
   "id": "b7a9d9f6",
   "metadata": {},
   "outputs": [
    {
     "data": {
      "text/plain": [
       "(250, 250, 3)"
      ]
     },
     "execution_count": 7,
     "metadata": {},
     "output_type": "execute_result"
    }
   ],
   "source": [
    "frame.shape\n",
    "# we need to bring the frame size tibe the same as those in data//negative which is 250*250 px\n",
    "# reassign frame size in above loop itself"
   ]
  },
  {
   "cell_type": "markdown",
   "id": "41fad8a8",
   "metadata": {},
   "source": [
    "#manipulate next cell for better performance"
   ]
  },
  {
   "cell_type": "markdown",
   "id": "4622869a",
   "metadata": {},
   "source": [
    "#making of data pipelines"
   ]
  },
  {
   "cell_type": "code",
   "execution_count": 5,
   "id": "5f0c7e95",
   "metadata": {},
   "outputs": [],
   "source": [
    "anchor = tf.data.Dataset.list_files(ANC_PATH+'\\*.jpg').take(200)#grab everything inside the achor path that has .jpg extension\n",
    "positive = tf.data.Dataset.list_files(POS_PATH+'\\*.jpg').take(200)\n",
    "negative = tf.data.Dataset.list_files(NEG_PATH+'\\*.jpg').take(200)"
   ]
  },
  {
   "cell_type": "code",
   "execution_count": 20,
   "id": "f48992bc",
   "metadata": {},
   "outputs": [
    {
     "data": {
      "text/plain": [
       "b'data\\\\anchor\\\\4af3e63b-5a21-11ee-8158-18473dde6de0.jpg'"
      ]
     },
     "execution_count": 20,
     "metadata": {},
     "output_type": "execute_result"
    }
   ],
   "source": [
    "dir_test = anchor.as_numpy_iterator() #how to iterate through the pipelines\n",
    "dir_test.next()"
   ]
  },
  {
   "cell_type": "markdown",
   "id": "cc924ce3",
   "metadata": {},
   "source": [
    "Preprocessing - scale and resize"
   ]
  },
  {
   "cell_type": "code",
   "execution_count": 6,
   "id": "9d305b77",
   "metadata": {},
   "outputs": [],
   "source": [
    "def preprocess(file_path):\n",
    "    #read file as byte scale\n",
    "    byte_img = tf.io.read_file(file_path)\n",
    "    #load it as img\n",
    "    img = tf.io.decode_image(byte_img,expand_animations = False)\n",
    "    #resize the img to 100*100*3 as prescribed in the siamese network\n",
    "    img = tf.image.resize(img,(100,100))\n",
    "    #scale between 0 and 1\n",
    "    img = img/255.0\n",
    "    return img"
   ]
  },
  {
   "cell_type": "markdown",
   "id": "db61df4c",
   "metadata": {},
   "source": [
    "Create a labelled dataset"
   ]
  },
  {
   "cell_type": "code",
   "execution_count": 7,
   "id": "8f262381",
   "metadata": {},
   "outputs": [],
   "source": [
    "positives = tf.data.Dataset.zip((anchor, positive, tf.data.Dataset.from_tensor_slices(tf.ones(len(anchor))))) #creates a new dataset by combining anchor, positive, and a dataset of ones element-wise\n",
    "negatives = tf.data.Dataset.zip((anchor, negative, tf.data.Dataset.from_tensor_slices(tf.zeros(len(anchor)))))\n",
    "data = positives.concatenate(negatives) #append the negatives below positives"
   ]
  },
  {
   "cell_type": "code",
   "execution_count": 8,
   "id": "a574ac2d",
   "metadata": {},
   "outputs": [
    {
     "data": {
      "text/plain": [
       "<_ConcatenateDataset element_spec=(TensorSpec(shape=(), dtype=tf.string, name=None), TensorSpec(shape=(), dtype=tf.string, name=None), TensorSpec(shape=(), dtype=tf.float32, name=None))>"
      ]
     },
     "execution_count": 8,
     "metadata": {},
     "output_type": "execute_result"
    }
   ],
   "source": [
    "data"
   ]
  },
  {
   "cell_type": "code",
   "execution_count": 10,
   "id": "bd11f5ce",
   "metadata": {},
   "outputs": [],
   "source": [
    "samples = data.as_numpy_iterator() #samples is an iterator that would iterate throught the datset\n",
    "example=samples.next()"
   ]
  },
  {
   "cell_type": "code",
   "execution_count": 9,
   "id": "1956badc",
   "metadata": {},
   "outputs": [],
   "source": [
    "# function where we will pass unpacked dataset as twins so that it preprecesses and scales the images as in preprocess func\n",
    "def preprocess_twin(input_img,validation_img,label):\n",
    "    return (preprocess(input_img),preprocess(validation_img),label)\n",
    "# for example: res=prepocess_twin(*samples.next()) where * is so that the unpacked tuple is pass and i dont have to unpack and pass each element separately"
   ]
  },
  {
   "cell_type": "code",
   "execution_count": 16,
   "id": "b93c8ed0",
   "metadata": {},
   "outputs": [
    {
     "data": {
      "text/plain": [
       "(<tf.Tensor: shape=(100, 100, 3), dtype=float32, numpy=\n",
       " array([[[0.7017157 , 0.67034316, 0.6625    ],\n",
       "         [0.7088235 , 0.67745095, 0.6696078 ],\n",
       "         [0.7088235 , 0.67745095, 0.6696078 ],\n",
       "         ...,\n",
       "         [0.66568625, 0.65392154, 0.6343137 ],\n",
       "         [0.6634804 , 0.6517157 , 0.63210785],\n",
       "         [0.6637255 , 0.6519608 , 0.63235295]],\n",
       " \n",
       "        [[0.7026961 , 0.67132354, 0.6634804 ],\n",
       "         [0.7019608 , 0.67058825, 0.6627451 ],\n",
       "         [0.70710784, 0.6757353 , 0.66789216],\n",
       "         ...,\n",
       "         [0.67156863, 0.6578431 , 0.6401961 ],\n",
       "         [0.66544116, 0.6517157 , 0.6340686 ],\n",
       "         [0.6607843 , 0.64705884, 0.62941176]],\n",
       " \n",
       "        [[0.7117647 , 0.68039215, 0.672549  ],\n",
       "         [0.7078431 , 0.6764706 , 0.66862744],\n",
       "         [0.70490193, 0.6735294 , 0.66568625],\n",
       "         ...,\n",
       "         [0.67058825, 0.6509804 , 0.6392157 ],\n",
       "         [0.66838235, 0.6487745 , 0.6370098 ],\n",
       "         [0.6578431 , 0.6382353 , 0.62647057]],\n",
       " \n",
       "        ...,\n",
       " \n",
       "        [[0.4757353 , 0.42107844, 0.3620098 ],\n",
       "         [0.4090686 , 0.32916668, 0.2615196 ],\n",
       "         [0.3865196 , 0.27107844, 0.19289216],\n",
       "         ...,\n",
       "         [0.6698529 , 0.63848037, 0.6306372 ],\n",
       "         [0.6620098 , 0.6306372 , 0.6227941 ],\n",
       "         [0.639951  , 0.62034315, 0.60857844]],\n",
       " \n",
       "        [[0.27328432, 0.19093138, 0.13725491],\n",
       "         [0.3526961 , 0.2617647 , 0.19705883],\n",
       "         [0.35955882, 0.25269607, 0.16764706],\n",
       "         ...,\n",
       "         [0.6644608 , 0.63308823, 0.6252451 ],\n",
       "         [0.65612745, 0.6247549 , 0.61691177],\n",
       "         [0.6490196 , 0.62058824, 0.6117647 ]],\n",
       " \n",
       "        [[0.3247549 , 0.21617647, 0.15269607],\n",
       "         [0.35563725, 0.2497549 , 0.17181373],\n",
       "         [0.36764705, 0.25980392, 0.16617647],\n",
       "         ...,\n",
       "         [0.65      , 0.63039213, 0.6186274 ],\n",
       "         [0.65294117, 0.6245098 , 0.6156863 ],\n",
       "         [0.654902  , 0.62352943, 0.6156863 ]]], dtype=float32)>,\n",
       " <tf.Tensor: shape=(100, 100, 3), dtype=float32, numpy=\n",
       " array([[[0.69436276, 0.6747549 , 0.65906864],\n",
       "         [0.7002451 , 0.67769605, 0.6629902 ],\n",
       "         [0.70906866, 0.67769605, 0.66593134],\n",
       "         ...,\n",
       "         [0.6745098 , 0.654902  , 0.6431373 ],\n",
       "         [0.6784314 , 0.65882355, 0.64705884],\n",
       "         [0.6754902 , 0.65588236, 0.64411765]],\n",
       " \n",
       "        [[0.7012255 , 0.6786765 , 0.6639706 ],\n",
       "         [0.7058824 , 0.6745098 , 0.6627451 ],\n",
       "         [0.7088235 , 0.67745095, 0.66568625],\n",
       "         ...,\n",
       "         [0.67965686, 0.660049  , 0.6482843 ],\n",
       "         [0.6813725 , 0.6617647 , 0.65      ],\n",
       "         [0.68333334, 0.6637255 , 0.6519608 ]],\n",
       " \n",
       "        [[0.7169118 , 0.6855392 , 0.6737745 ],\n",
       "         [0.71593136, 0.6845588 , 0.6727941 ],\n",
       "         [0.7107843 , 0.67941177, 0.66764706],\n",
       "         ...,\n",
       "         [0.67965686, 0.660049  , 0.6482843 ],\n",
       "         [0.68039215, 0.6607843 , 0.6490196 ],\n",
       "         [0.672549  , 0.65294117, 0.64117646]],\n",
       " \n",
       "        ...,\n",
       " \n",
       "        [[0.65710783, 0.59044117, 0.560049  ],\n",
       "         [0.45612746, 0.3992647 , 0.37083334],\n",
       "         [0.68259805, 0.6382353 , 0.6105392 ],\n",
       "         ...,\n",
       "         [0.40784314, 0.21004902, 0.08406863],\n",
       "         [0.41004902, 0.21004902, 0.08995098],\n",
       "         [0.40392157, 0.21176471, 0.09411765]],\n",
       " \n",
       "        [[0.6068627 , 0.54019606, 0.50980395],\n",
       "         [0.5022059 , 0.44754902, 0.4139706 ],\n",
       "         [0.6897059 , 0.64754903, 0.6102941 ],\n",
       "         ...,\n",
       "         [0.40710783, 0.20710784, 0.08553921],\n",
       "         [0.39411765, 0.1985294 , 0.08063725],\n",
       "         [0.3992647 , 0.20710784, 0.08946078]],\n",
       " \n",
       "        [[0.57279414, 0.5061275 , 0.4747549 ],\n",
       "         [0.59362745, 0.5397059 , 0.50441176],\n",
       "         [0.672549  , 0.63039213, 0.5862745 ],\n",
       "         ...,\n",
       "         [0.41568628, 0.22352941, 0.09803922],\n",
       "         [0.41789216, 0.22573529, 0.10612745],\n",
       "         [0.41568628, 0.22352941, 0.10588235]]], dtype=float32)>,\n",
       " 1.0)"
      ]
     },
     "execution_count": 16,
     "metadata": {},
     "output_type": "execute_result"
    }
   ],
   "source": [
    "preprocess_twin(*example)"
   ]
  },
  {
   "cell_type": "code",
   "execution_count": 10,
   "id": "03330358",
   "metadata": {},
   "outputs": [],
   "source": [
    "# build dataloader pipeline\n",
    "data = data.map(preprocess_twin)\n",
    "data = data.cache()\n",
    "data = data.shuffle(buffer_size=1024)"
   ]
  },
  {
   "cell_type": "code",
   "execution_count": 11,
   "id": "f6e64800",
   "metadata": {},
   "outputs": [
    {
     "data": {
      "text/plain": [
       "<_ShuffleDataset element_spec=(TensorSpec(shape=(100, 100, None), dtype=tf.float32, name=None), TensorSpec(shape=(100, 100, None), dtype=tf.float32, name=None), TensorSpec(shape=(), dtype=tf.float32, name=None))>"
      ]
     },
     "execution_count": 11,
     "metadata": {},
     "output_type": "execute_result"
    }
   ],
   "source": [
    "data"
   ]
  },
  {
   "cell_type": "markdown",
   "id": "cd88929b",
   "metadata": {},
   "source": [
    "training partition"
   ]
  },
  {
   "cell_type": "code",
   "execution_count": 12,
   "id": "7d2c6237",
   "metadata": {},
   "outputs": [],
   "source": [
    "train_data = data.take(round(len(data)*.7))\n",
    "train_data = train_data.batch(16)#we will pass in batches of 16\n",
    "train_data = train_data.prefetch(8)"
   ]
  },
  {
   "cell_type": "code",
   "execution_count": 13,
   "id": "f7a0c049",
   "metadata": {},
   "outputs": [
    {
     "data": {
      "text/plain": [
       "<_PrefetchDataset element_spec=(TensorSpec(shape=(None, 100, 100, None), dtype=tf.float32, name=None), TensorSpec(shape=(None, 100, 100, None), dtype=tf.float32, name=None), TensorSpec(shape=(None,), dtype=tf.float32, name=None))>"
      ]
     },
     "execution_count": 13,
     "metadata": {},
     "output_type": "execute_result"
    }
   ],
   "source": [
    "train_data#(None(no of examples-16), 100, 100, None(3))"
   ]
  },
  {
   "cell_type": "code",
   "execution_count": 18,
   "id": "3d9a9a32",
   "metadata": {},
   "outputs": [
    {
     "data": {
      "text/plain": [
       "<matplotlib.image.AxesImage at 0x1dd66c57990>"
      ]
     },
     "execution_count": 18,
     "metadata": {},
     "output_type": "execute_result"
    },
    {
     "data": {
      "image/png": "[encoded data removed]",
      "text/plain": [
       "<Figure size 640x480 with 1 Axes>"
      ]
     },
     "metadata": {},
     "output_type": "display_data"
    }
   ],
   "source": [
    "train_sample = train_data.as_numpy_iterator()\n",
    "ts = train_sample.next()\n",
    "ts[0].shape#(16, 100, 100, 3)#first batch\n",
    "plt.imshow(ts[0][1])"
   ]
  },
  {
   "cell_type": "markdown",
   "id": "72e92e8e",
   "metadata": {},
   "source": [
    "testing partition"
   ]
  },
  {
   "cell_type": "code",
   "execution_count": 102,
   "id": "edd1896e",
   "metadata": {},
   "outputs": [],
   "source": [
    "test_data = data.skip(round(len(data)*.7))\n",
    "test_data = test_data.take(round(len(data)*.3))\n",
    "test_data = test_data.batch(16)\n",
    "test_data = test_data.prefetch(8)"
   ]
  },
  {
   "cell_type": "code",
   "execution_count": 103,
   "id": "28b5f535",
   "metadata": {},
   "outputs": [
    {
     "data": {
      "text/plain": [
       "8"
      ]
     },
     "execution_count": 103,
     "metadata": {},
     "output_type": "execute_result"
    }
   ],
   "source": [
    "len(test_data)"
   ]
  },
  {
   "cell_type": "code",
   "execution_count": 59,
   "id": "e1bedb20",
   "metadata": {},
   "outputs": [
    {
     "data": {
      "text/plain": [
       "<_TakeDataset element_spec=(TensorSpec(shape=(100, 100, None), dtype=tf.float32, name=None), TensorSpec(shape=(100, 100, None), dtype=tf.float32, name=None), TensorSpec(shape=(), dtype=tf.float32, name=None))>"
      ]
     },
     "execution_count": 59,
     "metadata": {},
     "output_type": "execute_result"
    }
   ],
   "source": [
    "test_data"
   ]
  },
  {
   "cell_type": "markdown",
   "id": "8c8ea508",
   "metadata": {},
   "source": [
    "1. Build Embedding Layer\n",
    "2. Build Distance Layer(L1)\n",
    "3. Make Siamese Network\n",
    "\n",
    "Refer the archituecture for siamese neural network for facial recognition: \n",
    "https://www.cs.cmu.edu/~rsalakhu/papers/oneshot1.pdf"
   ]
  },
  {
   "cell_type": "code",
   "execution_count": 15,
   "id": "eaf0ec32",
   "metadata": {},
   "outputs": [],
   "source": [
    "def make_embedding():\n",
    "    inp = Input(shape=(100,100,3), name='input_image')\n",
    "    \n",
    "    # First Block\n",
    "    c1 = Conv2D(64, (10,10), activation='relu')(inp)\n",
    "    m1 = MaxPooling2D(64, (2,2), padding='same')(c1)\n",
    "    \n",
    "    # Second Block\n",
    "    c2 = Conv2D(128, (7,7), activation='relu')(m1)\n",
    "    m2 = MaxPooling2D(64, (2,2), padding='same')(c2)\n",
    "    \n",
    "    # Third Block\n",
    "    c3 = Conv2D(128, (4,4), activation='relu')(m2)\n",
    "    m3 = MaxPooling2D(64, (2,2), padding='same')(c3)\n",
    "    \n",
    "    # Final Embedding Block\n",
    "    c4 = Conv2D(256, (4,4), activation='relu')(m3)\n",
    "    f1 = Flatten()(c4)\n",
    "    d1 = Dense(4096, activation='sigmoid')(f1)\n",
    "    \n",
    "    return Model(inputs=[inp], outputs=[d1], name='embedding')"
   ]
  },
  {
   "cell_type": "code",
   "execution_count": 16,
   "id": "ed14d467",
   "metadata": {},
   "outputs": [
    {
     "name": "stdout",
     "output_type": "stream",
     "text": [
      "Model: \"embedding\"\n",
      "_________________________________________________________________\n",
      " Layer (type)                Output Shape              Param #   \n",
      "=================================================================\n",
      " input_image (InputLayer)    [(None, 100, 100, 3)]     0         \n",
      "                                                                 \n",
      " conv2d (Conv2D)             (None, 91, 91, 64)        19264     \n",
      "                                                                 \n",
      " max_pooling2d (MaxPooling2  (None, 46, 46, 64)        0         \n",
      " D)                                                              \n",
      "                                                                 \n",
      " conv2d_1 (Conv2D)           (None, 40, 40, 128)       401536    \n",
      "                                                                 \n",
      " max_pooling2d_1 (MaxPoolin  (None, 20, 20, 128)       0         \n",
      " g2D)                                                            \n",
      "                                                                 \n",
      " conv2d_2 (Conv2D)           (None, 17, 17, 128)       262272    \n",
      "                                                                 \n",
      " max_pooling2d_2 (MaxPoolin  (None, 9, 9, 128)         0         \n",
      " g2D)                                                            \n",
      "                                                                 \n",
      " conv2d_3 (Conv2D)           (None, 6, 6, 256)         524544    \n",
      "                                                                 \n",
      " flatten (Flatten)           (None, 9216)              0         \n",
      "                                                                 \n",
      " dense (Dense)               (None, 4096)              37752832  \n",
      "                                                                 \n",
      "=================================================================\n",
      "Total params: 38960448 (148.62 MB)\n",
      "Trainable params: 38960448 (148.62 MB)\n",
      "Non-trainable params: 0 (0.00 Byte)\n",
      "_________________________________________________________________\n"
     ]
    }
   ],
   "source": [
    "embedding = make_embedding()\n",
    "embedding.summary()"
   ]
  },
  {
   "cell_type": "markdown",
   "id": "9c0e4d57",
   "metadata": {},
   "source": [
    "Build Distance Layer"
   ]
  },
  {
   "cell_type": "code",
   "execution_count": 17,
   "id": "2d35d47b",
   "metadata": {},
   "outputs": [],
   "source": [
    "# Siamese L1 Disatnce class\n",
    "class L1Dist(Layer):\n",
    "    # Init method - inheritance\n",
    "    def __init__(self, **kwargs):\n",
    "        super().__init__();\n",
    "    \n",
    "    # similarity calculator\n",
    "    def call(self, input_embedding, validation_embedding):\n",
    "        return tf.math.abs(input_embedding - validation_embedding)\n",
    "    "
   ]
  },
  {
   "cell_type": "code",
   "execution_count": 18,
   "id": "a0e02997",
   "metadata": {},
   "outputs": [],
   "source": [
    "l1 = L1Dist()"
   ]
  },
  {
   "cell_type": "markdown",
   "id": "9f2b6240",
   "metadata": {},
   "source": [
    "Make Siamese Model - combining 2 layers for a classification task"
   ]
  },
  {
   "cell_type": "code",
   "execution_count": 19,
   "id": "e415d589",
   "metadata": {},
   "outputs": [],
   "source": [
    "def make_siamese_model():\n",
    "    \n",
    "    # Anchor image input in the network\n",
    "    input_image = Input(name='input_image', shape=(100,100,3))\n",
    "    \n",
    "    # Validation image in the network\n",
    "    validation_image = Input(name='validation_image', shape=(100,100,3))\n",
    "    \n",
    "    # combine distance components\n",
    "    siamese_layer = L1Dist()\n",
    "    siamese_layer._name = 'distance'\n",
    "    distances = siamese_layer(embedding(input_image),embedding(validation_image))\n",
    "    \n",
    "    # Classification layer\n",
    "    classifier = Dense(1, activation='sigmoid')(distances)\n",
    "    \n",
    "    return Model(inputs=[input_image,validation_image], outputs=classifier, name='SiameseNetwork')"
   ]
  },
  {
   "cell_type": "code",
   "execution_count": 20,
   "id": "fc5d7dbd",
   "metadata": {},
   "outputs": [],
   "source": [
    "siamese_model = make_siamese_model()"
   ]
  },
  {
   "cell_type": "code",
   "execution_count": 21,
   "id": "8244735b",
   "metadata": {},
   "outputs": [
    {
     "name": "stdout",
     "output_type": "stream",
     "text": [
      "Model: \"SiameseNetwork\"\n",
      "__________________________________________________________________________________________________\n",
      " Layer (type)                Output Shape                 Param #   Connected to                  \n",
      "==================================================================================================\n",
      " input_image (InputLayer)    [(None, 100, 100, 3)]        0         []                            \n",
      "                                                                                                  \n",
      " validation_image (InputLay  [(None, 100, 100, 3)]        0         []                            \n",
      " er)                                                                                              \n",
      "                                                                                                  \n",
      " embedding (Functional)      (None, 4096)                 3896044   ['input_image[0][0]',         \n",
      "                                                          8          'validation_image[0][0]']    \n",
      "                                                                                                  \n",
      " distance (L1Dist)           (None, 4096)                 0         ['embedding[0][0]',           \n",
      "                                                                     'embedding[1][0]']           \n",
      "                                                                                                  \n",
      " dense_1 (Dense)             (None, 1)                    4097      ['distance[0][0]']            \n",
      "                                                                                                  \n",
      "==================================================================================================\n",
      "Total params: 38964545 (148.64 MB)\n",
      "Trainable params: 38964545 (148.64 MB)\n",
      "Non-trainable params: 0 (0.00 Byte)\n",
      "__________________________________________________________________________________________________\n"
     ]
    }
   ],
   "source": [
    "siamese_model.summary()"
   ]
  },
  {
   "cell_type": "markdown",
   "id": "720ab01f",
   "metadata": {},
   "source": [
    "Setup Loss Optimizer"
   ]
  },
  {
   "cell_type": "code",
   "execution_count": 22,
   "id": "f12305c5",
   "metadata": {},
   "outputs": [],
   "source": [
    "binary_cross_loss = tf.losses.BinaryCrossentropy()"
   ]
  },
  {
   "cell_type": "code",
   "execution_count": 23,
   "id": "7d0cabab",
   "metadata": {},
   "outputs": [],
   "source": [
    "opt = tf.optimizers.Adam(1e-4)"
   ]
  },
  {
   "cell_type": "markdown",
   "id": "e6268db7",
   "metadata": {},
   "source": [
    "Establish Checkpoints"
   ]
  },
  {
   "cell_type": "code",
   "execution_count": 24,
   "id": "1f96f2f2",
   "metadata": {},
   "outputs": [],
   "source": [
    "checkpoint_dir = './training_checkpoints'\n",
    "checkpoint_prefix = os.path.join(checkpoint_dir,'ckpt')\n",
    "checkpoint = tf.train.Checkpoint(opt=opt, siamese_model=siamese_model)"
   ]
  },
  {
   "cell_type": "markdown",
   "id": "6e432dd8",
   "metadata": {},
   "source": [
    "Build Train-Step function\n",
    "for each batch passed:-\n",
    "1. Make a prediction\n",
    "2. Calculate loss\n",
    "3. Derive Gradients\n",
    "4. Calculate new weights and apply"
   ]
  },
  {
   "cell_type": "code",
   "execution_count": 25,
   "id": "3bc89bd0",
   "metadata": {},
   "outputs": [],
   "source": [
    "@tf.function # compiles a function into a callable Tensorflow graph\n",
    "def train_step(batch):\n",
    "    # to record the derivatives at every steps for each batch passed\n",
    "    with tf.GradientTape() as tape: \n",
    "        # from dataset\n",
    "        # grab anchor and positive/negative columns\n",
    "        X = batch[:2]\n",
    "        # get the label, 1 if pos, 0 if negative\n",
    "        y = batch[2]\n",
    "        \n",
    "        # forward pass prediction\n",
    "        yhat = siamese_model(X, training=True) # some layers activate only during actual training so actually have training\n",
    "        # calculate loss\n",
    "        loss = binary_cross_loss(y,yhat) # (label,prediction)\n",
    "    print(loss)\n",
    "    \n",
    "    # calculate gradients\n",
    "    grad = tape.gradient(loss, siamese_model.trainable_variables) # computes the gradients of the loss with respect to the trainable variables(weights) of the Siamese model\n",
    "    \n",
    "    # calculate updtaed weights and aaply to the siamese model\n",
    "    opt.apply_gradients(zip(grad, siamese_model.trainable_variables)) # calculating and propagating new weights using the Adam optimizer, which is a variant of gradient descent\n",
    "    \n",
    "    return loss"
   ]
  },
  {
   "cell_type": "markdown",
   "id": "aac14bec",
   "metadata": {},
   "source": [
    "Training loops"
   ]
  },
  {
   "cell_type": "code",
   "execution_count": 26,
   "id": "16659811",
   "metadata": {},
   "outputs": [],
   "source": [
    "def train(data, EPOCHS):\n",
    "    # Loop through epochs\n",
    "    for epoch in range(1, EPOCHS+1):\n",
    "        print('\\n Epoch {}/{}'.format(epoch, EPOCHS))\n",
    "        progbar = tf.keras.utils.Progbar(len(data))\n",
    "        \n",
    "        # Loop through each batch\n",
    "        for idx, batch in enumerate(data):\n",
    "            # Run train step here\n",
    "            train_step(batch)\n",
    "            progbar.update(idx+1)\n",
    "        \n",
    "        # Save checkpoints\n",
    "        if epoch % 10 == 0: \n",
    "            checkpoint.save(file_prefix=checkpoint_prefix)"
   ]
  },
  {
   "cell_type": "code",
   "execution_count": 27,
   "id": "b0717912",
   "metadata": {},
   "outputs": [],
   "source": [
    "EPOCHS = 50"
   ]
  },
  {
   "cell_type": "code",
   "execution_count": 28,
   "id": "591fb4fc",
   "metadata": {},
   "outputs": [
    {
     "name": "stdout",
     "output_type": "stream",
     "text": [
      "\n",
      " Epoch 1/50\n",
      "Tensor(\"binary_crossentropy/weighted_loss/value:0\", shape=(), dtype=float32)\n",
      "Tensor(\"binary_crossentropy/weighted_loss/value:0\", shape=(), dtype=float32)\n",
      "17/18 [===========================>..] - ETA: 27sTensor(\"binary_crossentropy/weighted_loss/value:0\", shape=(), dtype=float32)\n",
      "18/18 [==============================] - 498s 27s/step\n",
      "\n",
      " Epoch 2/50\n",
      "18/18 [==============================] - 466s 26s/step\n",
      "\n",
      " Epoch 3/50\n",
      "18/18 [==============================] - 454s 25s/step\n",
      "\n",
      " Epoch 4/50\n",
      "18/18 [==============================] - 459s 26s/step\n",
      "\n",
      " Epoch 5/50\n",
      "18/18 [==============================] - 450s 25s/step\n",
      "\n",
      " Epoch 6/50\n",
      "18/18 [==============================] - 446s 25s/step\n",
      "\n",
      " Epoch 7/50\n",
      "18/18 [==============================] - 454s 25s/step\n",
      "\n",
      " Epoch 8/50\n",
      "18/18 [==============================] - 493s 27s/step\n",
      "\n",
      " Epoch 9/50\n",
      "18/18 [==============================] - 503s 28s/step\n",
      "\n",
      " Epoch 10/50\n",
      "18/18 [==============================] - 496s 28s/step\n",
      "\n",
      " Epoch 11/50\n",
      "18/18 [==============================] - 472s 26s/step\n",
      "\n",
      " Epoch 12/50\n",
      "18/18 [==============================] - 473s 26s/step\n",
      "\n",
      " Epoch 13/50\n",
      "18/18 [==============================] - 477s 27s/step\n",
      "\n",
      " Epoch 14/50\n",
      "18/18 [==============================] - 468s 26s/step\n",
      "\n",
      " Epoch 15/50\n",
      "18/18 [==============================] - 460s 26s/step\n",
      "\n",
      " Epoch 16/50\n",
      "18/18 [==============================] - 474s 26s/step\n",
      "\n",
      " Epoch 17/50\n",
      "18/18 [==============================] - 474s 26s/step\n",
      "\n",
      " Epoch 18/50\n",
      "18/18 [==============================] - 477s 26s/step\n",
      "\n",
      " Epoch 19/50\n",
      "18/18 [==============================] - 540s 30s/step\n",
      "\n",
      " Epoch 20/50\n",
      "18/18 [==============================] - 530s 30s/step\n",
      "\n",
      " Epoch 21/50\n",
      "18/18 [==============================] - 561s 31s/step\n",
      "\n",
      " Epoch 22/50\n",
      "18/18 [==============================] - 593s 33s/step\n",
      "\n",
      " Epoch 23/50\n",
      "18/18 [==============================] - 585s 32s/step\n",
      "\n",
      " Epoch 24/50\n",
      "18/18 [==============================] - 578s 32s/step\n",
      "\n",
      " Epoch 25/50\n",
      "18/18 [==============================] - 578s 32s/step\n",
      "\n",
      " Epoch 26/50\n",
      "18/18 [==============================] - 611s 34s/step\n",
      "\n",
      " Epoch 27/50\n",
      "18/18 [==============================] - 606s 34s/step\n",
      "\n",
      " Epoch 28/50\n",
      "18/18 [==============================] - 488s 27s/step\n",
      "\n",
      " Epoch 29/50\n",
      "18/18 [==============================] - 506s 28s/step\n",
      "\n",
      " Epoch 30/50\n",
      "18/18 [==============================] - 499s 28s/step\n",
      "\n",
      " Epoch 31/50\n",
      "18/18 [==============================] - 495s 27s/step\n",
      "\n",
      " Epoch 32/50\n",
      "18/18 [==============================] - 500s 28s/step\n",
      "\n",
      " Epoch 33/50\n",
      "18/18 [==============================] - 504s 28s/step\n",
      "\n",
      " Epoch 34/50\n",
      "18/18 [==============================] - 521s 29s/step\n",
      "\n",
      " Epoch 35/50\n",
      "18/18 [==============================] - 505s 28s/step\n",
      "\n",
      " Epoch 36/50\n",
      "18/18 [==============================] - 501s 28s/step\n",
      "\n",
      " Epoch 37/50\n",
      "18/18 [==============================] - 514s 29s/step\n",
      "\n",
      " Epoch 38/50\n",
      "18/18 [==============================] - 507s 28s/step\n",
      "\n",
      " Epoch 39/50\n",
      "18/18 [==============================] - 502s 28s/step\n",
      "\n",
      " Epoch 40/50\n",
      "18/18 [==============================] - 534s 30s/step\n",
      "\n",
      " Epoch 41/50\n",
      "18/18 [==============================] - 496s 28s/step\n",
      "\n",
      " Epoch 42/50\n",
      "18/18 [==============================] - 501s 28s/step\n",
      "\n",
      " Epoch 43/50\n",
      "18/18 [==============================] - 526s 29s/step\n",
      "\n",
      " Epoch 44/50\n",
      "18/18 [==============================] - 532s 29s/step\n",
      "\n",
      " Epoch 45/50\n",
      "18/18 [==============================] - 541s 30s/step\n",
      "\n",
      " Epoch 46/50\n",
      "18/18 [==============================] - 499s 28s/step\n",
      "\n",
      " Epoch 47/50\n",
      "18/18 [==============================] - 505s 28s/step\n",
      "\n",
      " Epoch 48/50\n",
      "18/18 [==============================] - 499s 28s/step\n",
      "\n",
      " Epoch 49/50\n",
      "18/18 [==============================] - 503s 28s/step\n",
      "\n",
      " Epoch 50/50\n",
      "18/18 [==============================] - 487s 27s/step\n"
     ]
    }
   ],
   "source": [
    "train(train_data,EPOCHS)"
   ]
  },
  {
   "cell_type": "markdown",
   "id": "06ed5c33",
   "metadata": {},
   "source": [
    "Model Evaluation"
   ]
  },
  {
   "cell_type": "code",
   "execution_count": 30,
   "id": "5fe6eecf",
   "metadata": {},
   "outputs": [],
   "source": [
    "from tensorflow.keras.metrics import Precision, Recall\n",
    "# recall = tp/(tp+fp)\n",
    "# precision = tp/(tp+fn)"
   ]
  },
  {
   "cell_type": "code",
   "execution_count": 104,
   "id": "e6f59191",
   "metadata": {},
   "outputs": [],
   "source": [
    "# for each batch of test data, unpacking gives\n",
    "test_input, test_val, y_true = test_data.as_numpy_iterator().next()"
   ]
  },
  {
   "cell_type": "code",
   "execution_count": 73,
   "id": "c88dea37",
   "metadata": {},
   "outputs": [
    {
     "data": {
      "text/plain": [
       "(array([[[0.904902  , 0.8656863 , 0.85784316],\n",
       "         [0.90392154, 0.86470586, 0.8568627 ],\n",
       "         [0.9019608 , 0.8656863 , 0.8490196 ],\n",
       "         ...,\n",
       "         [0.8786765 , 0.8355392 , 0.8276961 ],\n",
       "         [0.87352943, 0.8303922 , 0.82254905],\n",
       "         [0.872549  , 0.82941175, 0.8215686 ]],\n",
       " \n",
       "        [[0.90343136, 0.8642157 , 0.85637254],\n",
       "         [0.9117647 , 0.87352943, 0.8627451 ],\n",
       "         [0.9019608 , 0.8666667 , 0.84705883],\n",
       "         ...,\n",
       "         [0.8779412 , 0.8367647 , 0.82598037],\n",
       "         [0.87352943, 0.83235294, 0.8215686 ],\n",
       "         [0.87352943, 0.8352941 , 0.8245098 ]],\n",
       " \n",
       "        [[0.90588236, 0.8666667 , 0.85882354],\n",
       "         [0.8997549 , 0.8637255 , 0.84632355],\n",
       "         [0.8990196 , 0.8637255 , 0.84411764],\n",
       "         ...,\n",
       "         [0.8666667 , 0.83137256, 0.8117647 ],\n",
       "         [0.87058824, 0.8352941 , 0.8156863 ],\n",
       "         [0.86764705, 0.83235294, 0.8127451 ]],\n",
       " \n",
       "        ...,\n",
       " \n",
       "        [[0.65710783, 0.60612744, 0.5747549 ],\n",
       "         [0.88504905, 0.83406866, 0.8090686 ],\n",
       "         [0.89730394, 0.84411764, 0.8272059 ],\n",
       "         ...,\n",
       "         [0.7134804 , 0.6661765 , 0.6272059 ],\n",
       "         [0.72205883, 0.685049  , 0.6487745 ],\n",
       "         [0.7257353 , 0.69289213, 0.654902  ]],\n",
       " \n",
       "        [[0.7852941 , 0.74313724, 0.7088235 ],\n",
       "         [0.8762255 , 0.83406866, 0.8002451 ],\n",
       "         [0.8870098 , 0.8448529 , 0.8125    ],\n",
       "         ...,\n",
       "         [0.6931372 , 0.65612745, 0.60245097],\n",
       "         [0.71593136, 0.68259805, 0.6340686 ],\n",
       "         [0.7264706 , 0.69509804, 0.6460784 ]],\n",
       " \n",
       "        [[0.85343134, 0.81421566, 0.77892154],\n",
       "         [0.8713235 , 0.83210784, 0.79387254],\n",
       "         [0.877451  , 0.8382353 , 0.8029412 ],\n",
       "         ...,\n",
       "         [0.7112745 , 0.6877451 , 0.63480395],\n",
       "         [0.7252451 , 0.7017157 , 0.6546569 ],\n",
       "         [0.72107846, 0.69754905, 0.6504902 ]]], dtype=float32),\n",
       " array([[[0.46764705, 0.35490197, 0.09313726],\n",
       "         [0.5990196 , 0.46568626, 0.09019608],\n",
       "         [0.6784314 , 0.50392157, 0.06568628],\n",
       "         ...,\n",
       "         [0.21568628, 0.26666668, 0.33333334],\n",
       "         [0.2127451 , 0.2637255 , 0.33039215],\n",
       "         [0.20392157, 0.25490198, 0.32156864]],\n",
       " \n",
       "        [[0.41593137, 0.31029412, 0.05882353],\n",
       "         [0.56078434, 0.42156863, 0.06568628],\n",
       "         [0.657598  , 0.47941175, 0.05      ],\n",
       "         ...,\n",
       "         [0.21544118, 0.26642156, 0.33308825],\n",
       "         [0.21176471, 0.2627451 , 0.32941177],\n",
       "         [0.20392157, 0.25490198, 0.32156864]],\n",
       " \n",
       "        [[0.3852941 , 0.27794117, 0.06642157],\n",
       "         [0.5375    , 0.4007353 , 0.0759804 ],\n",
       "         [0.6512255 , 0.4642157 , 0.0620098 ],\n",
       "         ...,\n",
       "         [0.21470588, 0.26568627, 0.3382353 ],\n",
       "         [0.21176471, 0.2627451 , 0.33529413],\n",
       "         [0.20392157, 0.25490198, 0.327451  ]],\n",
       " \n",
       "        ...,\n",
       " \n",
       "        [[0.4392157 , 0.29705882, 0.19411765],\n",
       "         [0.3365196 , 0.19607843, 0.11838235],\n",
       "         [0.27107844, 0.12598039, 0.06127451],\n",
       "         ...,\n",
       "         [0.6987745 , 0.6522059 , 0.4622549 ],\n",
       "         [0.79607844, 0.7536765 , 0.5872549 ],\n",
       "         [0.89705884, 0.85906863, 0.73946077]],\n",
       " \n",
       "        [[0.55833334, 0.40539217, 0.28651962],\n",
       "         [0.5605392 , 0.40490195, 0.3134804 ],\n",
       "         [0.41764706, 0.26764706, 0.19509804],\n",
       "         ...,\n",
       "         [0.8480392 , 0.810049  , 0.6213235 ],\n",
       "         [0.8987745 , 0.8757353 , 0.7411765 ],\n",
       "         [0.8688725 , 0.8544118 , 0.77916664]],\n",
       " \n",
       "        [[0.56421566, 0.389951  , 0.2742647 ],\n",
       "         [0.49509802, 0.32818627, 0.2367647 ],\n",
       "         [0.36813724, 0.20686275, 0.13455883],\n",
       "         ...,\n",
       "         [0.9191176 , 0.88308823, 0.7392157 ],\n",
       "         [0.86789215, 0.8568627 , 0.75710785],\n",
       "         [0.88529414, 0.89411765, 0.8117647 ]]], dtype=float32),\n",
       " 0.0)"
      ]
     },
     "execution_count": 73,
     "metadata": {},
     "output_type": "execute_result"
    }
   ],
   "source": [
    "test_data.as_numpy_iterator().next()"
   ]
  },
  {
   "cell_type": "code",
   "execution_count": 36,
   "id": "0547332a",
   "metadata": {},
   "outputs": [
    {
     "name": "stdout",
     "output_type": "stream",
     "text": [
      "Model: \"SiameseNetwork\"\n",
      "__________________________________________________________________________________________________\n",
      " Layer (type)                Output Shape                 Param #   Connected to                  \n",
      "==================================================================================================\n",
      " input_image (InputLayer)    [(None, 100, 100, 3)]        0         []                            \n",
      "                                                                                                  \n",
      " validation_image (InputLay  [(None, 100, 100, 3)]        0         []                            \n",
      " er)                                                                                              \n",
      "                                                                                                  \n",
      " embedding (Functional)      (None, 4096)                 3896044   ['input_image[0][0]',         \n",
      "                                                          8          'validation_image[0][0]']    \n",
      "                                                                                                  \n",
      " distance (L1Dist)           (None, 4096)                 0         ['embedding[0][0]',           \n",
      "                                                                     'embedding[1][0]']           \n",
      "                                                                                                  \n",
      " dense_1 (Dense)             (None, 1)                    4097      ['distance[0][0]']            \n",
      "                                                                                                  \n",
      "==================================================================================================\n",
      "Total params: 38964545 (148.64 MB)\n",
      "Trainable params: 38964545 (148.64 MB)\n",
      "Non-trainable params: 0 (0.00 Byte)\n",
      "__________________________________________________________________________________________________\n"
     ]
    }
   ],
   "source": [
    "siamese_model.summary()"
   ]
  },
  {
   "cell_type": "code",
   "execution_count": 105,
   "id": "4454db7b",
   "metadata": {},
   "outputs": [
    {
     "name": "stdout",
     "output_type": "stream",
     "text": [
      "1/1 [==============================] - 3s 3s/step\n"
     ]
    },
    {
     "data": {
      "text/plain": [
       "array([[9.9934959e-01],\n",
       "       [9.9979234e-01],\n",
       "       [1.0000000e+00],\n",
       "       [9.9995804e-01],\n",
       "       [9.9913210e-01],\n",
       "       [9.9971324e-01],\n",
       "       [9.9965340e-01],\n",
       "       [9.9999976e-01],\n",
       "       [7.2446267e-09],\n",
       "       [9.9998885e-01],\n",
       "       [2.2577289e-08],\n",
       "       [3.0657364e-07],\n",
       "       [9.9999189e-01],\n",
       "       [1.3125830e-06],\n",
       "       [1.0000000e+00],\n",
       "       [3.8712424e-05]], dtype=float32)"
      ]
     },
     "execution_count": 105,
     "metadata": {},
     "output_type": "execute_result"
    }
   ],
   "source": [
    "y_hat = siamese_model.predict([test_input, test_val])\n",
    "y_hat"
   ]
  },
  {
   "cell_type": "code",
   "execution_count": 106,
   "id": "d652563d",
   "metadata": {},
   "outputs": [
    {
     "data": {
      "text/plain": [
       "[1, 1, 1, 1, 1, 1, 1, 1, 0, 1, 0, 0, 1, 0, 1, 0]"
      ]
     },
     "execution_count": 106,
     "metadata": {},
     "output_type": "execute_result"
    }
   ],
   "source": [
    "# post processing the results\n",
    "[1 if prediction > 0.5 else 0 for prediction in y_hat]"
   ]
  },
  {
   "cell_type": "code",
   "execution_count": 107,
   "id": "2c57cb54",
   "metadata": {},
   "outputs": [
    {
     "data": {
      "text/plain": [
       "array([1., 1., 1., 1., 1., 1., 1., 1., 0., 1., 0., 0., 1., 0., 1., 0.],\n",
       "      dtype=float32)"
      ]
     },
     "execution_count": 107,
     "metadata": {},
     "output_type": "execute_result"
    }
   ],
   "source": [
    "y_true"
   ]
  },
  {
   "cell_type": "code",
   "execution_count": 109,
   "id": "33dbe123",
   "metadata": {},
   "outputs": [
    {
     "data": {
      "text/plain": [
       "0.0"
      ]
     },
     "execution_count": 109,
     "metadata": {},
     "output_type": "execute_result"
    }
   ],
   "source": [
    "# create a metric object\n",
    "m = Recall()\n",
    "# calculating the recall value\n",
    "# m.update_status(y_true, y_hat)\n",
    "# return recall result\n",
    "m.result().numpy()"
   ]
  },
  {
   "cell_type": "markdown",
   "id": "b2c10c53",
   "metadata": {},
   "source": [
    "Visualize Result"
   ]
  },
  {
   "cell_type": "code",
   "execution_count": 110,
   "id": "7ff427d0",
   "metadata": {},
   "outputs": [
    {
     "data": {
      "image/png": "[encoded data removed]",
      "text/plain": [
       "<Figure size 1800x800 with 2 Axes>"
      ]
     },
     "metadata": {},
     "output_type": "display_data"
    }
   ],
   "source": [
    "plt.figure(figsize=(18,8))\n",
    "# first subplot\n",
    "plt.subplot(1,2,1)#(num_rows,num_cols,index)\n",
    "plt.imshow(test_input[0])\n",
    "# second subplot\n",
    "plt.subplot(1,2,2)\n",
    "plt.imshow(test_val[0])\n",
    "plt.show()"
   ]
  },
  {
   "cell_type": "markdown",
   "id": "25d2e9c8",
   "metadata": {},
   "source": [
    "Viz Results"
   ]
  },
  {
   "cell_type": "code",
   "execution_count": 111,
   "id": "e704f1c1",
   "metadata": {},
   "outputs": [
    {
     "name": "stdout",
     "output_type": "stream",
     "text": [
      "WARNING:tensorflow:Compiled the loaded model, but the compiled metrics have yet to be built. `model.compile_metrics` will be empty until you train or evaluate the model.\n"
     ]
    },
    {
     "name": "stderr",
     "output_type": "stream",
     "text": [
      "C:\\Users\\ADMIN\\AppData\\Roaming\\Python\\Python311\\site-packages\\keras\\src\\engine\\training.py:3000: UserWarning: You are saving your model as an HDF5 file via `model.save()`. This file format is considered legacy. We recommend using instead the native Keras format, e.g. `model.save('my_model.keras')`.\n",
      "  saving_api.save_model(\n"
     ]
    }
   ],
   "source": [
    "# save weights\n",
    "siamese_model.save('siamese_model.h5')"
   ]
  },
  {
   "cell_type": "code",
   "execution_count": 112,
   "id": "c9a59e84",
   "metadata": {},
   "outputs": [
    {
     "name": "stdout",
     "output_type": "stream",
     "text": [
      "WARNING:tensorflow:No training configuration found in the save file, so the model was *not* compiled. Compile it manually.\n"
     ]
    }
   ],
   "source": [
    "# reload model\n",
    "model = tf.keras.models.load_model('siamese_model.h5', \n",
    "                                   custom_objects={'L1Dist':L1Dist, 'BinaryCrossentropy':tf.losses.BinaryCrossentropy})"
   ]
  },
  {
   "cell_type": "code",
   "execution_count": 113,
   "id": "197979f2",
   "metadata": {},
   "outputs": [
    {
     "name": "stdout",
     "output_type": "stream",
     "text": [
      "1/1 [==============================] - 3s 3s/step\n"
     ]
    },
    {
     "data": {
      "text/plain": [
       "array([[9.9934959e-01],\n",
       "       [9.9979234e-01],\n",
       "       [1.0000000e+00],\n",
       "       [9.9995804e-01],\n",
       "       [9.9913210e-01],\n",
       "       [9.9971324e-01],\n",
       "       [9.9965340e-01],\n",
       "       [9.9999976e-01],\n",
       "       [7.2446267e-09],\n",
       "       [9.9998885e-01],\n",
       "       [2.2577289e-08],\n",
       "       [3.0657364e-07],\n",
       "       [9.9999189e-01],\n",
       "       [1.3125830e-06],\n",
       "       [1.0000000e+00],\n",
       "       [3.8712424e-05]], dtype=float32)"
      ]
     },
     "execution_count": 113,
     "metadata": {},
     "output_type": "execute_result"
    }
   ],
   "source": [
    "model.predict([test_input, test_val])"
   ]
  },
  {
   "cell_type": "code",
   "execution_count": 114,
   "id": "56711aba",
   "metadata": {},
   "outputs": [
    {
     "name": "stdout",
     "output_type": "stream",
     "text": [
      "Model: \"SiameseNetwork\"\n",
      "__________________________________________________________________________________________________\n",
      " Layer (type)                Output Shape                 Param #   Connected to                  \n",
      "==================================================================================================\n",
      " input_image (InputLayer)    [(None, 100, 100, 3)]        0         []                            \n",
      "                                                                                                  \n",
      " validation_image (InputLay  [(None, 100, 100, 3)]        0         []                            \n",
      " er)                                                                                              \n",
      "                                                                                                  \n",
      " embedding (Functional)      (None, 4096)                 3896044   ['input_image[0][0]',         \n",
      "                                                          8          'validation_image[0][0]']    \n",
      "                                                                                                  \n",
      " l1_dist_3 (L1Dist)          (None, 4096)                 0         ['embedding[0][0]',           \n",
      "                                                                     'embedding[1][0]']           \n",
      "                                                                                                  \n",
      " dense_1 (Dense)             (None, 1)                    4097      ['l1_dist_3[0][0]']           \n",
      "                                                                                                  \n",
      "==================================================================================================\n",
      "Total params: 38964545 (148.64 MB)\n",
      "Trainable params: 38964545 (148.64 MB)\n",
      "Non-trainable params: 0 (0.00 Byte)\n",
      "__________________________________________________________________________________________________\n"
     ]
    }
   ],
   "source": [
    "model.summary()"
   ]
  },
  {
   "cell_type": "markdown",
   "id": "6c8ce1ef",
   "metadata": {},
   "source": [
    "Real Time Test"
   ]
  },
  {
   "cell_type": "code",
   "execution_count": 117,
   "id": "65084842",
   "metadata": {},
   "outputs": [],
   "source": [
    "def verify(model,detection_threshold,verification_threshold):\n",
    "    # build results array\n",
    "    results = []\n",
    "    for image in os.listdir(os.path.join('application_data','verification_images')):\n",
    "        input_img = preprocess(os.path.join('application_data','input_image','input_image.jpg'))\n",
    "        validation_img = preprocess(os.path.join('application_data','verification_images',image))\n",
    "        \n",
    "        # make predictions\n",
    "        result = model.predict(list(np.expand_dims([input_img, validation_img], axis=1)))\n",
    "        # expand dims is to add an extra dimension along axis=1(columns) so that its shape is from (2,...) to (2,1,..), basically that extra 1 is necessary while dealing with batch dimensions \n",
    "        results.append(result)\n",
    "        \n",
    "    # Detection Threshold: Metric above which a prediction is considered positive\n",
    "    detection = np.sum(np.array(results) > detection_threshold)\n",
    "    \n",
    "    # Verification Threshold: Proportion of positive predictions / total positive samples\n",
    "    verification = detection / len(os.listdir(os.path.join('application_data','verification_images')))\n",
    "    verified = verification > verification_threshold\n",
    "    \n",
    "    return results, verified"
   ]
  },
  {
   "cell_type": "markdown",
   "id": "55c2f57e",
   "metadata": {},
   "source": [
    "OpenCV realtime verification"
   ]
  },
  {
   "cell_type": "code",
   "execution_count": 126,
   "id": "0b8c1030",
   "metadata": {},
   "outputs": [
    {
     "name": "stdout",
     "output_type": "stream",
     "text": [
      "1/1 [==============================] - 0s 371ms/step\n",
      "1/1 [==============================] - 0s 313ms/step\n",
      "1/1 [==============================] - 0s 344ms/step\n",
      "1/1 [==============================] - 0s 346ms/step\n",
      "1/1 [==============================] - 0s 320ms/step\n",
      "1/1 [==============================] - 0s 351ms/step\n",
      "1/1 [==============================] - 0s 323ms/step\n",
      "1/1 [==============================] - 0s 254ms/step\n",
      "1/1 [==============================] - 0s 268ms/step\n",
      "1/1 [==============================] - 0s 251ms/step\n",
      "1/1 [==============================] - 0s 322ms/step\n",
      "1/1 [==============================] - 0s 269ms/step\n",
      "1/1 [==============================] - 0s 360ms/step\n",
      "1/1 [==============================] - 0s 249ms/step\n",
      "1/1 [==============================] - 0s 412ms/step\n",
      "1/1 [==============================] - 0s 303ms/step\n",
      "1/1 [==============================] - 0s 325ms/step\n",
      "1/1 [==============================] - 0s 383ms/step\n",
      "1/1 [==============================] - 0s 406ms/step\n",
      "1/1 [==============================] - 0s 329ms/step\n",
      "1/1 [==============================] - 0s 324ms/step\n",
      "1/1 [==============================] - 0s 317ms/step\n",
      "1/1 [==============================] - 0s 358ms/step\n",
      "1/1 [==============================] - 0s 346ms/step\n",
      "1/1 [==============================] - 0s 391ms/step\n",
      "1/1 [==============================] - 0s 370ms/step\n",
      "1/1 [==============================] - 0s 298ms/step\n",
      "1/1 [==============================] - 0s 394ms/step\n",
      "1/1 [==============================] - 0s 413ms/step\n",
      "1/1 [==============================] - 0s 390ms/step\n",
      "1/1 [==============================] - 0s 397ms/step\n",
      "1/1 [==============================] - 0s 257ms/step\n",
      "1/1 [==============================] - 0s 366ms/step\n",
      "1/1 [==============================] - 0s 311ms/step\n",
      "1/1 [==============================] - 0s 247ms/step\n",
      "1/1 [==============================] - 0s 412ms/step\n",
      "1/1 [==============================] - 0s 299ms/step\n",
      "1/1 [==============================] - 0s 376ms/step\n",
      "1/1 [==============================] - 0s 353ms/step\n",
      "1/1 [==============================] - 0s 404ms/step\n",
      "1/1 [==============================] - 0s 273ms/step\n",
      "1/1 [==============================] - 0s 263ms/step\n",
      "1/1 [==============================] - 0s 374ms/step\n",
      "1/1 [==============================] - 0s 376ms/step\n",
      "1/1 [==============================] - 0s 344ms/step\n",
      "1/1 [==============================] - 0s 348ms/step\n",
      "1/1 [==============================] - 0s 349ms/step\n",
      "1/1 [==============================] - 0s 371ms/step\n",
      "1/1 [==============================] - 0s 373ms/step\n",
      "1/1 [==============================] - 0s 295ms/step\n",
      "True\n",
      "1/1 [==============================] - 0s 350ms/step\n",
      "1/1 [==============================] - 0s 341ms/step\n",
      "1/1 [==============================] - 0s 418ms/step\n",
      "1/1 [==============================] - 0s 402ms/step\n",
      "1/1 [==============================] - 0s 340ms/step\n",
      "1/1 [==============================] - 0s 431ms/step\n",
      "1/1 [==============================] - 0s 338ms/step\n",
      "1/1 [==============================] - 0s 291ms/step\n",
      "1/1 [==============================] - 1s 526ms/step\n",
      "1/1 [==============================] - 1s 514ms/step\n",
      "1/1 [==============================] - 1s 589ms/step\n",
      "1/1 [==============================] - 1s 618ms/step\n",
      "1/1 [==============================] - 0s 381ms/step\n",
      "1/1 [==============================] - 0s 339ms/step\n",
      "1/1 [==============================] - 0s 345ms/step\n",
      "1/1 [==============================] - 0s 381ms/step\n",
      "1/1 [==============================] - 0s 278ms/step\n",
      "1/1 [==============================] - 0s 396ms/step\n",
      "1/1 [==============================] - 0s 407ms/step\n",
      "1/1 [==============================] - 0s 402ms/step\n",
      "1/1 [==============================] - 0s 405ms/step\n",
      "1/1 [==============================] - 0s 440ms/step\n",
      "1/1 [==============================] - 0s 428ms/step\n",
      "1/1 [==============================] - 0s 391ms/step\n",
      "1/1 [==============================] - 0s 410ms/step\n",
      "1/1 [==============================] - 0s 276ms/step\n",
      "1/1 [==============================] - 0s 373ms/step\n",
      "1/1 [==============================] - 0s 250ms/step\n",
      "1/1 [==============================] - 0s 257ms/step\n",
      "1/1 [==============================] - 0s 363ms/step\n",
      "1/1 [==============================] - 0s 370ms/step\n",
      "1/1 [==============================] - 0s 421ms/step\n",
      "1/1 [==============================] - 0s 341ms/step\n",
      "1/1 [==============================] - 0s 380ms/step\n",
      "1/1 [==============================] - 0s 430ms/step\n",
      "1/1 [==============================] - 0s 354ms/step\n",
      "1/1 [==============================] - 0s 364ms/step\n",
      "1/1 [==============================] - 0s 366ms/step\n",
      "1/1 [==============================] - 0s 380ms/step\n",
      "1/1 [==============================] - 0s 358ms/step\n",
      "1/1 [==============================] - 0s 378ms/step\n",
      "1/1 [==============================] - 0s 368ms/step\n",
      "1/1 [==============================] - 0s 368ms/step\n",
      "1/1 [==============================] - 0s 423ms/step\n",
      "1/1 [==============================] - 0s 357ms/step\n",
      "1/1 [==============================] - 0s 379ms/step\n",
      "1/1 [==============================] - 0s 313ms/step\n",
      "1/1 [==============================] - 0s 289ms/step\n",
      "1/1 [==============================] - 0s 260ms/step\n",
      "1/1 [==============================] - 0s 300ms/step\n",
      "False\n",
      "1/1 [==============================] - 0s 446ms/step\n",
      "1/1 [==============================] - 1s 524ms/step\n",
      "1/1 [==============================] - 1s 524ms/step\n",
      "1/1 [==============================] - 0s 492ms/step\n",
      "1/1 [==============================] - 0s 491ms/step\n",
      "1/1 [==============================] - 0s 480ms/step\n",
      "1/1 [==============================] - 1s 503ms/step\n",
      "1/1 [==============================] - 0s 374ms/step\n",
      "1/1 [==============================] - 0s 390ms/step\n",
      "1/1 [==============================] - 0s 399ms/step\n",
      "1/1 [==============================] - 0s 421ms/step\n",
      "1/1 [==============================] - 0s 376ms/step\n",
      "1/1 [==============================] - 0s 473ms/step\n",
      "1/1 [==============================] - 0s 391ms/step\n",
      "1/1 [==============================] - 0s 395ms/step\n",
      "1/1 [==============================] - 0s 369ms/step\n",
      "1/1 [==============================] - 0s 486ms/step\n",
      "1/1 [==============================] - 0s 387ms/step\n",
      "1/1 [==============================] - 0s 454ms/step\n",
      "1/1 [==============================] - 0s 411ms/step\n",
      "1/1 [==============================] - 0s 435ms/step\n",
      "1/1 [==============================] - 0s 489ms/step\n",
      "1/1 [==============================] - 0s 484ms/step\n",
      "1/1 [==============================] - 0s 443ms/step\n",
      "1/1 [==============================] - 0s 443ms/step\n",
      "1/1 [==============================] - 0s 455ms/step\n",
      "1/1 [==============================] - 0s 394ms/step\n",
      "1/1 [==============================] - 0s 439ms/step\n",
      "1/1 [==============================] - 0s 475ms/step\n",
      "1/1 [==============================] - 1s 511ms/step\n",
      "1/1 [==============================] - 0s 389ms/step\n",
      "1/1 [==============================] - 0s 428ms/step\n",
      "1/1 [==============================] - 0s 418ms/step\n",
      "1/1 [==============================] - 1s 534ms/step\n",
      "1/1 [==============================] - 0s 439ms/step\n",
      "1/1 [==============================] - 0s 491ms/step\n",
      "1/1 [==============================] - 1s 501ms/step\n",
      "1/1 [==============================] - 1s 548ms/step\n",
      "1/1 [==============================] - 0s 426ms/step\n",
      "1/1 [==============================] - 1s 604ms/step\n",
      "1/1 [==============================] - 1s 567ms/step\n",
      "1/1 [==============================] - 0s 398ms/step\n",
      "1/1 [==============================] - 1s 611ms/step\n",
      "1/1 [==============================] - 1s 571ms/step\n",
      "1/1 [==============================] - 0s 388ms/step\n",
      "1/1 [==============================] - 1s 543ms/step\n",
      "1/1 [==============================] - 0s 436ms/step\n",
      "1/1 [==============================] - 1s 563ms/step\n",
      "1/1 [==============================] - 1s 542ms/step\n",
      "1/1 [==============================] - 0s 402ms/step\n",
      "False\n",
      "1/1 [==============================] - 0s 397ms/step\n",
      "1/1 [==============================] - 1s 536ms/step\n",
      "1/1 [==============================] - 0s 438ms/step\n",
      "1/1 [==============================] - 0s 417ms/step\n"
     ]
    },
    {
     "name": "stdout",
     "output_type": "stream",
     "text": [
      "1/1 [==============================] - 0s 415ms/step\n",
      "1/1 [==============================] - 0s 401ms/step\n",
      "1/1 [==============================] - 0s 475ms/step\n",
      "1/1 [==============================] - 0s 485ms/step\n",
      "1/1 [==============================] - 0s 471ms/step\n",
      "1/1 [==============================] - 1s 514ms/step\n",
      "1/1 [==============================] - 0s 430ms/step\n",
      "1/1 [==============================] - 1s 502ms/step\n",
      "1/1 [==============================] - 0s 477ms/step\n",
      "1/1 [==============================] - 0s 402ms/step\n",
      "1/1 [==============================] - 0s 466ms/step\n",
      "1/1 [==============================] - 0s 468ms/step\n",
      "1/1 [==============================] - 0s 500ms/step\n",
      "1/1 [==============================] - 0s 447ms/step\n",
      "1/1 [==============================] - 1s 515ms/step\n",
      "1/1 [==============================] - 0s 449ms/step\n",
      "1/1 [==============================] - 0s 474ms/step\n",
      "1/1 [==============================] - 1s 544ms/step\n",
      "1/1 [==============================] - 0s 489ms/step\n",
      "1/1 [==============================] - 0s 474ms/step\n",
      "1/1 [==============================] - 0s 376ms/step\n",
      "1/1 [==============================] - 0s 461ms/step\n",
      "1/1 [==============================] - 0s 473ms/step\n",
      "1/1 [==============================] - 1s 500ms/step\n",
      "1/1 [==============================] - 1s 547ms/step\n",
      "1/1 [==============================] - 0s 373ms/step\n",
      "1/1 [==============================] - 0s 430ms/step\n",
      "1/1 [==============================] - 0s 497ms/step\n",
      "1/1 [==============================] - 0s 461ms/step\n",
      "1/1 [==============================] - 0s 436ms/step\n",
      "1/1 [==============================] - 0s 490ms/step\n",
      "1/1 [==============================] - 0s 490ms/step\n",
      "1/1 [==============================] - 0s 468ms/step\n",
      "1/1 [==============================] - 0s 461ms/step\n",
      "1/1 [==============================] - 0s 483ms/step\n",
      "1/1 [==============================] - 0s 498ms/step\n",
      "1/1 [==============================] - 0s 448ms/step\n",
      "1/1 [==============================] - 1s 504ms/step\n",
      "1/1 [==============================] - 1s 554ms/step\n",
      "1/1 [==============================] - 0s 398ms/step\n",
      "1/1 [==============================] - 1s 504ms/step\n",
      "1/1 [==============================] - 0s 420ms/step\n",
      "1/1 [==============================] - 0s 476ms/step\n",
      "1/1 [==============================] - 0s 460ms/step\n",
      "1/1 [==============================] - 1s 502ms/step\n",
      "1/1 [==============================] - 0s 438ms/step\n",
      "True\n",
      "1/1 [==============================] - 1s 567ms/step\n",
      "1/1 [==============================] - 0s 474ms/step\n",
      "1/1 [==============================] - 0s 400ms/step\n",
      "1/1 [==============================] - 0s 499ms/step\n",
      "1/1 [==============================] - 0s 474ms/step\n",
      "1/1 [==============================] - 0s 482ms/step\n",
      "1/1 [==============================] - 0s 472ms/step\n",
      "1/1 [==============================] - 0s 467ms/step\n",
      "1/1 [==============================] - 1s 516ms/step\n",
      "1/1 [==============================] - 0s 465ms/step\n",
      "1/1 [==============================] - 1s 531ms/step\n",
      "1/1 [==============================] - 1s 593ms/step\n",
      "1/1 [==============================] - 0s 464ms/step\n",
      "1/1 [==============================] - 1s 518ms/step\n",
      "1/1 [==============================] - 0s 494ms/step\n",
      "1/1 [==============================] - 0s 405ms/step\n",
      "1/1 [==============================] - 1s 518ms/step\n",
      "1/1 [==============================] - 0s 469ms/step\n",
      "1/1 [==============================] - 0s 409ms/step\n",
      "1/1 [==============================] - 1s 530ms/step\n",
      "1/1 [==============================] - 1s 586ms/step\n",
      "1/1 [==============================] - 0s 388ms/step\n",
      "1/1 [==============================] - 1s 539ms/step\n",
      "1/1 [==============================] - 1s 542ms/step\n",
      "1/1 [==============================] - 0s 470ms/step\n",
      "1/1 [==============================] - 1s 564ms/step\n",
      "1/1 [==============================] - 0s 387ms/step\n",
      "1/1 [==============================] - 0s 412ms/step\n",
      "1/1 [==============================] - 0s 486ms/step\n",
      "1/1 [==============================] - 0s 451ms/step\n",
      "1/1 [==============================] - 1s 572ms/step\n",
      "1/1 [==============================] - 0s 429ms/step\n",
      "1/1 [==============================] - 1s 505ms/step\n",
      "1/1 [==============================] - 0s 433ms/step\n",
      "1/1 [==============================] - 0s 446ms/step\n",
      "1/1 [==============================] - 0s 357ms/step\n",
      "1/1 [==============================] - 1s 523ms/step\n",
      "1/1 [==============================] - 0s 429ms/step\n",
      "1/1 [==============================] - 1s 577ms/step\n",
      "1/1 [==============================] - 0s 483ms/step\n",
      "1/1 [==============================] - 0s 360ms/step\n",
      "1/1 [==============================] - 0s 494ms/step\n",
      "1/1 [==============================] - 0s 496ms/step\n",
      "1/1 [==============================] - 0s 469ms/step\n",
      "1/1 [==============================] - 1s 518ms/step\n",
      "1/1 [==============================] - 0s 392ms/step\n",
      "1/1 [==============================] - 1s 503ms/step\n",
      "1/1 [==============================] - 0s 474ms/step\n",
      "1/1 [==============================] - 1s 552ms/step\n",
      "1/1 [==============================] - 0s 494ms/step\n",
      "True\n",
      "1/1 [==============================] - 0s 472ms/step\n",
      "1/1 [==============================] - 0s 479ms/step\n",
      "1/1 [==============================] - 0s 457ms/step\n",
      "1/1 [==============================] - 0s 412ms/step\n",
      "1/1 [==============================] - 0s 432ms/step\n",
      "1/1 [==============================] - 1s 502ms/step\n",
      "1/1 [==============================] - 0s 481ms/step\n",
      "1/1 [==============================] - 1s 530ms/step\n",
      "1/1 [==============================] - 0s 371ms/step\n",
      "1/1 [==============================] - 0s 414ms/step\n",
      "1/1 [==============================] - 0s 470ms/step\n",
      "1/1 [==============================] - 0s 380ms/step\n",
      "1/1 [==============================] - 0s 373ms/step\n",
      "1/1 [==============================] - 0s 419ms/step\n",
      "1/1 [==============================] - 0s 419ms/step\n",
      "1/1 [==============================] - 0s 422ms/step\n",
      "1/1 [==============================] - 0s 389ms/step\n",
      "1/1 [==============================] - 0s 438ms/step\n",
      "1/1 [==============================] - 1s 506ms/step\n",
      "1/1 [==============================] - 0s 427ms/step\n",
      "1/1 [==============================] - 0s 400ms/step\n",
      "1/1 [==============================] - 0s 478ms/step\n",
      "1/1 [==============================] - 1s 557ms/step\n",
      "1/1 [==============================] - 0s 493ms/step\n",
      "1/1 [==============================] - 1s 527ms/step\n",
      "1/1 [==============================] - 0s 490ms/step\n",
      "1/1 [==============================] - 0s 378ms/step\n",
      "1/1 [==============================] - 1s 531ms/step\n",
      "1/1 [==============================] - 0s 437ms/step\n",
      "1/1 [==============================] - 0s 469ms/step\n",
      "1/1 [==============================] - 1s 508ms/step\n",
      "1/1 [==============================] - 0s 391ms/step\n",
      "1/1 [==============================] - 0s 385ms/step\n",
      "1/1 [==============================] - 1s 530ms/step\n",
      "1/1 [==============================] - 1s 577ms/step\n",
      "1/1 [==============================] - 0s 389ms/step\n",
      "1/1 [==============================] - 1s 518ms/step\n",
      "1/1 [==============================] - 0s 363ms/step\n",
      "1/1 [==============================] - 0s 423ms/step\n",
      "1/1 [==============================] - 0s 457ms/step\n",
      "1/1 [==============================] - 1s 522ms/step\n",
      "1/1 [==============================] - 0s 427ms/step\n",
      "1/1 [==============================] - 0s 461ms/step\n",
      "1/1 [==============================] - 0s 490ms/step\n",
      "1/1 [==============================] - 0s 472ms/step\n",
      "1/1 [==============================] - 0s 444ms/step\n",
      "1/1 [==============================] - 1s 517ms/step\n",
      "1/1 [==============================] - 0s 469ms/step\n",
      "1/1 [==============================] - 1s 539ms/step\n",
      "1/1 [==============================] - 0s 434ms/step\n",
      "False\n",
      "1/1 [==============================] - 0s 420ms/step\n",
      "1/1 [==============================] - 1s 564ms/step\n",
      "1/1 [==============================] - 1s 557ms/step\n",
      "1/1 [==============================] - 0s 462ms/step\n",
      "1/1 [==============================] - 1s 546ms/step\n",
      "1/1 [==============================] - 0s 482ms/step\n",
      "1/1 [==============================] - 1s 514ms/step\n",
      "1/1 [==============================] - 1s 506ms/step\n"
     ]
    },
    {
     "name": "stdout",
     "output_type": "stream",
     "text": [
      "1/1 [==============================] - 1s 538ms/step\n",
      "1/1 [==============================] - 0s 476ms/step\n",
      "1/1 [==============================] - 1s 546ms/step\n",
      "1/1 [==============================] - 1s 560ms/step\n",
      "1/1 [==============================] - 0s 382ms/step\n",
      "1/1 [==============================] - 0s 460ms/step\n",
      "1/1 [==============================] - 0s 466ms/step\n",
      "1/1 [==============================] - 1s 513ms/step\n",
      "1/1 [==============================] - 0s 466ms/step\n",
      "1/1 [==============================] - 0s 464ms/step\n",
      "1/1 [==============================] - 0s 477ms/step\n",
      "1/1 [==============================] - 1s 544ms/step\n",
      "1/1 [==============================] - 0s 426ms/step\n",
      "1/1 [==============================] - 0s 411ms/step\n",
      "1/1 [==============================] - 0s 416ms/step\n",
      "1/1 [==============================] - 0s 356ms/step\n",
      "1/1 [==============================] - 0s 445ms/step\n",
      "1/1 [==============================] - 0s 462ms/step\n",
      "1/1 [==============================] - 1s 514ms/step\n",
      "1/1 [==============================] - 0s 388ms/step\n",
      "1/1 [==============================] - 1s 514ms/step\n",
      "1/1 [==============================] - 1s 530ms/step\n",
      "1/1 [==============================] - 0s 438ms/step\n",
      "1/1 [==============================] - 0s 452ms/step\n",
      "1/1 [==============================] - 0s 382ms/step\n",
      "1/1 [==============================] - 0s 444ms/step\n",
      "1/1 [==============================] - 0s 477ms/step\n",
      "1/1 [==============================] - 0s 424ms/step\n",
      "1/1 [==============================] - 0s 367ms/step\n",
      "1/1 [==============================] - 1s 537ms/step\n",
      "1/1 [==============================] - 1s 558ms/step\n",
      "1/1 [==============================] - 1s 508ms/step\n",
      "1/1 [==============================] - 0s 446ms/step\n",
      "1/1 [==============================] - 1s 567ms/step\n",
      "1/1 [==============================] - 0s 490ms/step\n",
      "1/1 [==============================] - 0s 393ms/step\n",
      "1/1 [==============================] - 0s 473ms/step\n",
      "1/1 [==============================] - 1s 541ms/step\n",
      "1/1 [==============================] - 1s 510ms/step\n",
      "1/1 [==============================] - 0s 397ms/step\n",
      "1/1 [==============================] - 1s 509ms/step\n",
      "1/1 [==============================] - 1s 561ms/step\n",
      "True\n",
      "1/1 [==============================] - 1s 531ms/step\n",
      "1/1 [==============================] - 1s 565ms/step\n",
      "1/1 [==============================] - 0s 437ms/step\n",
      "1/1 [==============================] - 1s 555ms/step\n",
      "1/1 [==============================] - 1s 543ms/step\n",
      "1/1 [==============================] - 1s 574ms/step\n",
      "1/1 [==============================] - 1s 542ms/step\n",
      "1/1 [==============================] - 1s 546ms/step\n",
      "1/1 [==============================] - 1s 547ms/step\n",
      "1/1 [==============================] - 0s 483ms/step\n",
      "1/1 [==============================] - 1s 513ms/step\n",
      "1/1 [==============================] - 0s 485ms/step\n",
      "1/1 [==============================] - 0s 400ms/step\n",
      "1/1 [==============================] - 1s 545ms/step\n",
      "1/1 [==============================] - 1s 504ms/step\n",
      "1/1 [==============================] - 1s 581ms/step\n",
      "1/1 [==============================] - 1s 578ms/step\n",
      "1/1 [==============================] - 1s 533ms/step\n",
      "1/1 [==============================] - 1s 509ms/step\n",
      "1/1 [==============================] - 1s 584ms/step\n",
      "1/1 [==============================] - 1s 520ms/step\n",
      "1/1 [==============================] - 1s 517ms/step\n",
      "1/1 [==============================] - 1s 526ms/step\n",
      "1/1 [==============================] - 1s 568ms/step\n",
      "1/1 [==============================] - 1s 521ms/step\n",
      "1/1 [==============================] - 0s 493ms/step\n",
      "1/1 [==============================] - 0s 453ms/step\n",
      "1/1 [==============================] - 1s 584ms/step\n",
      "1/1 [==============================] - 0s 390ms/step\n",
      "1/1 [==============================] - 0s 479ms/step\n",
      "1/1 [==============================] - 0s 399ms/step\n",
      "1/1 [==============================] - 0s 448ms/step\n",
      "1/1 [==============================] - 0s 436ms/step\n",
      "1/1 [==============================] - 1s 514ms/step\n",
      "1/1 [==============================] - 1s 564ms/step\n",
      "1/1 [==============================] - 1s 532ms/step\n",
      "1/1 [==============================] - 1s 527ms/step\n",
      "1/1 [==============================] - 0s 402ms/step\n",
      "1/1 [==============================] - 1s 523ms/step\n",
      "1/1 [==============================] - 1s 509ms/step\n",
      "1/1 [==============================] - 1s 585ms/step\n",
      "1/1 [==============================] - 0s 364ms/step\n",
      "1/1 [==============================] - 1s 514ms/step\n",
      "1/1 [==============================] - 1s 528ms/step\n",
      "1/1 [==============================] - 0s 403ms/step\n",
      "1/1 [==============================] - 0s 458ms/step\n",
      "1/1 [==============================] - 0s 470ms/step\n",
      "1/1 [==============================] - 1s 500ms/step\n",
      "1/1 [==============================] - 0s 478ms/step\n",
      "1/1 [==============================] - 1s 500ms/step\n",
      "True\n",
      "1/1 [==============================] - 0s 383ms/step\n",
      "1/1 [==============================] - 0s 500ms/step\n",
      "1/1 [==============================] - 0s 377ms/step\n",
      "1/1 [==============================] - 0s 383ms/step\n",
      "1/1 [==============================] - 1s 500ms/step\n",
      "1/1 [==============================] - 0s 382ms/step\n",
      "1/1 [==============================] - 0s 380ms/step\n",
      "1/1 [==============================] - 0s 463ms/step\n",
      "1/1 [==============================] - 0s 484ms/step\n",
      "1/1 [==============================] - 1s 512ms/step\n",
      "1/1 [==============================] - 1s 555ms/step\n",
      "1/1 [==============================] - 0s 415ms/step\n",
      "1/1 [==============================] - 1s 516ms/step\n",
      "1/1 [==============================] - 0s 470ms/step\n",
      "1/1 [==============================] - 1s 508ms/step\n",
      "1/1 [==============================] - 0s 359ms/step\n",
      "1/1 [==============================] - 0s 498ms/step\n",
      "1/1 [==============================] - 1s 526ms/step\n",
      "1/1 [==============================] - 1s 568ms/step\n",
      "1/1 [==============================] - 0s 498ms/step\n",
      "1/1 [==============================] - 0s 477ms/step\n",
      "1/1 [==============================] - 1s 516ms/step\n",
      "1/1 [==============================] - 0s 395ms/step\n",
      "1/1 [==============================] - 0s 369ms/step\n",
      "1/1 [==============================] - 1s 522ms/step\n",
      "1/1 [==============================] - 0s 383ms/step\n",
      "1/1 [==============================] - 0s 465ms/step\n",
      "1/1 [==============================] - 1s 530ms/step\n",
      "1/1 [==============================] - 0s 436ms/step\n",
      "1/1 [==============================] - 1s 513ms/step\n",
      "1/1 [==============================] - 1s 534ms/step\n",
      "1/1 [==============================] - 0s 444ms/step\n",
      "1/1 [==============================] - 0s 369ms/step\n",
      "1/1 [==============================] - 1s 532ms/step\n",
      "1/1 [==============================] - 0s 499ms/step\n",
      "1/1 [==============================] - 0s 390ms/step\n",
      "1/1 [==============================] - 0s 483ms/step\n",
      "1/1 [==============================] - 0s 484ms/step\n",
      "1/1 [==============================] - 0s 450ms/step\n",
      "1/1 [==============================] - 1s 516ms/step\n",
      "1/1 [==============================] - 0s 413ms/step\n",
      "1/1 [==============================] - 0s 437ms/step\n",
      "1/1 [==============================] - 1s 511ms/step\n",
      "1/1 [==============================] - 0s 457ms/step\n",
      "1/1 [==============================] - 1s 513ms/step\n",
      "1/1 [==============================] - 1s 505ms/step\n",
      "1/1 [==============================] - 0s 399ms/step\n",
      "1/1 [==============================] - 0s 396ms/step\n",
      "1/1 [==============================] - 0s 437ms/step\n",
      "1/1 [==============================] - 0s 458ms/step\n",
      "True\n",
      "1/1 [==============================] - 0s 415ms/step\n",
      "1/1 [==============================] - 0s 385ms/step\n",
      "1/1 [==============================] - 0s 431ms/step\n",
      "1/1 [==============================] - 0s 474ms/step\n",
      "1/1 [==============================] - 0s 393ms/step\n",
      "1/1 [==============================] - 1s 518ms/step\n",
      "1/1 [==============================] - 0s 423ms/step\n",
      "1/1 [==============================] - 0s 378ms/step\n",
      "1/1 [==============================] - 0s 397ms/step\n",
      "1/1 [==============================] - 0s 413ms/step\n",
      "1/1 [==============================] - 0s 395ms/step\n",
      "1/1 [==============================] - 0s 473ms/step\n"
     ]
    },
    {
     "name": "stdout",
     "output_type": "stream",
     "text": [
      "1/1 [==============================] - 0s 395ms/step\n",
      "1/1 [==============================] - 0s 403ms/step\n",
      "1/1 [==============================] - 0s 359ms/step\n",
      "1/1 [==============================] - 0s 470ms/step\n",
      "1/1 [==============================] - 0s 376ms/step\n",
      "1/1 [==============================] - 0s 472ms/step\n",
      "1/1 [==============================] - 0s 445ms/step\n",
      "1/1 [==============================] - 1s 541ms/step\n",
      "1/1 [==============================] - 0s 479ms/step\n",
      "1/1 [==============================] - 0s 413ms/step\n",
      "1/1 [==============================] - 0s 477ms/step\n",
      "1/1 [==============================] - 1s 520ms/step\n",
      "1/1 [==============================] - 0s 449ms/step\n",
      "1/1 [==============================] - 0s 385ms/step\n",
      "1/1 [==============================] - 0s 353ms/step\n",
      "1/1 [==============================] - 1s 523ms/step\n",
      "1/1 [==============================] - 1s 510ms/step\n",
      "1/1 [==============================] - 0s 425ms/step\n",
      "1/1 [==============================] - 0s 479ms/step\n",
      "1/1 [==============================] - 0s 393ms/step\n",
      "1/1 [==============================] - 0s 396ms/step\n",
      "1/1 [==============================] - 0s 351ms/step\n",
      "1/1 [==============================] - 0s 394ms/step\n",
      "1/1 [==============================] - 0s 372ms/step\n",
      "1/1 [==============================] - 0s 402ms/step\n",
      "1/1 [==============================] - 1s 536ms/step\n",
      "1/1 [==============================] - 0s 368ms/step\n",
      "1/1 [==============================] - 0s 498ms/step\n",
      "1/1 [==============================] - 1s 539ms/step\n",
      "1/1 [==============================] - 0s 411ms/step\n",
      "1/1 [==============================] - 0s 492ms/step\n",
      "1/1 [==============================] - 0s 410ms/step\n",
      "1/1 [==============================] - 0s 447ms/step\n",
      "1/1 [==============================] - 0s 494ms/step\n",
      "1/1 [==============================] - 1s 557ms/step\n",
      "1/1 [==============================] - 1s 556ms/step\n",
      "1/1 [==============================] - 1s 557ms/step\n",
      "1/1 [==============================] - 1s 507ms/step\n",
      "False\n"
     ]
    }
   ],
   "source": [
    "cap = cv.VideoCapture(0)\n",
    "while cap.isOpened():\n",
    "    ret, frame = cap.read()\n",
    "    frame = frame[200:200+250,200:200+250,:]\n",
    "    cv.imshow('Verification', frame)\n",
    "    \n",
    "    # Verification Trigger\n",
    "    if cv.waitKey(10) & 0xFF==ord('v'):\n",
    "        # save input image to application_data/input_image\n",
    "        cv.imwrite(os.path.join('application_data','input_image','input_image.jpg'),frame)\n",
    "        # Run Verification\n",
    "        results, verified = verify(model,0.7,0.7)\n",
    "        print(verified)\n",
    "    \n",
    "    if cv.waitKey(10) & 0xFF==ord('q'):\n",
    "        break\n",
    "\n",
    "cap.release()\n",
    "cv.destroyAllWindows()"
   ]
  },
  {
   "cell_type": "code",
   "execution_count": null,
   "id": "f8f3564f",
   "metadata": {},
   "outputs": [],
   "source": [
    "np.sum(np.squeeze(results)>0.5)"
   ]
  }
 ],
 "metadata": {
  "kernelspec": {
   "display_name": "Python 3 (ipykernel)",
   "language": "python",
   "name": "python3"
  },
  "language_info": {
   "codemirror_mode": {
    "name": "ipython",
    "version": 3
   },
   "file_extension": ".py",
   "mimetype": "text/x-python",
   "name": "python",
   "nbconvert_exporter": "python",
   "pygments_lexer": "ipython3",
   "version": "3.11.2"
  }
 },
 "nbformat": 4,
 "nbformat_minor": 5
}
